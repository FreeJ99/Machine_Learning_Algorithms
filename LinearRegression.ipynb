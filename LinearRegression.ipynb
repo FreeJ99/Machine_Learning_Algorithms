{
 "cells": [
  {
   "cell_type": "code",
   "execution_count": 1,
   "metadata": {},
   "outputs": [],
   "source": [
    "import numpy as np"
   ]
  },
  {
   "cell_type": "code",
   "execution_count": 14,
   "metadata": {},
   "outputs": [],
   "source": [
    "#X: Mx(N-1), y: M\n",
    "#Xw: MxN, yw: Mx1\n",
    "class LinearRegressionL2:\n",
    "    def __init__(self, regParam = 0):\n",
    "        self.regParam = regParam\n",
    "        self.w = 0\n",
    "        \n",
    "    def fitNormalEquation(self, X, y):\n",
    "        N = X.shape[1]+1\n",
    "        M = X.shape[0]\n",
    "        Xw = np.hstack((np.ones((M,1)), X))\n",
    "        yw = y.reshape(M, 1)\n",
    "        \n",
    "        self.w = np.matmul(np.matmul(np.linalg.inv(np.matmul(Xw.T, Xw) + self.regParam*np.eye(N)), Xw.T), yw)\n",
    "        \n",
    "    def fitGradientDescent(self, X, y, alpha, n_iter):\n",
    "        N = X.shape[1]+1\n",
    "        M = X.shape[0]\n",
    "        Xw = np.hstack((np.ones((M,1)), X))\n",
    "        yw = y.reshape(M, 1)\n",
    "        \n",
    "        self.w = np.random.randn(N, 1)\n",
    "        for i in range(n_iter):\n",
    "            grad = np.matmul(Xw.T, np.matmul(Xw, self.w) - yw) + self.regParam*self.w\n",
    "            grad = grad / M\n",
    "            self.w -= alpha*grad\n",
    "    \n",
    "    def predict(self, X):\n",
    "        M = X.shape[0]\n",
    "        Xw = np.hstack((np.ones((M,1)), X))\n",
    "        return np.ravel(np.matmul(Xw, self.w))"
   ]
  },
  {
   "cell_type": "code",
   "execution_count": 15,
   "metadata": {},
   "outputs": [],
   "source": [
    "from sklearn.datasets import load_boston\n",
    "from sklearn.preprocessing import StandardScaler\n",
    "from metrics import MSE\n",
    "from metrics import R2"
   ]
  },
  {
   "cell_type": "code",
   "execution_count": 28,
   "metadata": {},
   "outputs": [
    {
     "name": "stdout",
     "output_type": "stream",
     "text": [
      "21.897837383046223\n",
      "0.7406070538615723\n",
      "\n",
      "\n",
      "21.903799759427145\n",
      "0.7405364259567075\n"
     ]
    }
   ],
   "source": [
    "# Testing and comparing\n",
    "\n",
    "scaler = StandardScaler()\n",
    "\n",
    "boston = load_boston()\n",
    "X = boston.data\n",
    "X = scaler.fit_transform(X)\n",
    "y = boston.target\n",
    "#print(boston.target)\n",
    "\n",
    "model = LinearRegressionL2(1)\n",
    "\n",
    "model.fitNormalEquation(X, y)\n",
    "print(MSE(model, X, y))\n",
    "print(R2(model, X, y))\n",
    "#print(model.w)\n",
    "print()\n",
    "\n",
    "model.fitGradientDescent(X, y, 0.1, 500)\n",
    "print()\n",
    "print(MSE(model, X, y))\n",
    "print(R2(model, X, y))\n",
    "#print(model.w)"
   ]
  }
 ],
 "metadata": {
  "kernelspec": {
   "display_name": "Python 3",
   "language": "python",
   "name": "python3"
  },
  "language_info": {
   "codemirror_mode": {
    "name": "ipython",
    "version": 3
   },
   "file_extension": ".py",
   "mimetype": "text/x-python",
   "name": "python",
   "nbconvert_exporter": "python",
   "pygments_lexer": "ipython3",
   "version": "3.6.10"
  }
 },
 "nbformat": 4,
 "nbformat_minor": 2
}
