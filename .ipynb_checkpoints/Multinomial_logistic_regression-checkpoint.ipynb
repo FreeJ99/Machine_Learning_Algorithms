{
 "cells": [
  {
   "cell_type": "code",
   "execution_count": 30,
   "metadata": {},
   "outputs": [],
   "source": [
    "import numpy as np\n",
    "import pandas as pd\n",
    "import matplotlib.pyplot as plt"
   ]
  },
  {
   "cell_type": "code",
   "execution_count": 135,
   "metadata": {},
   "outputs": [],
   "source": [
    "#X: MxN\n",
    "#y: M\n",
    "class MultinomialLogisticRegression:\n",
    "    def __init__(self, C, alpha = 0.01, lam = 1, n_iters = 50):\n",
    "        self.C = C\n",
    "        self.alpha = alpha\n",
    "        self.lam = lam\n",
    "        self.n_iters = n_iters\n",
    "        \n",
    "    def fit(self, X, y):\n",
    "        M = X.shape[0]\n",
    "        #intercept\n",
    "        X = np.hstack([np.ones((M,1)), X])\n",
    "        N = X.shape[1]\n",
    "        \n",
    "        #y:M -> MxC\n",
    "        #one hot encoding for y\n",
    "        y = pd.Series(y)\n",
    "        y = pd.get_dummies(y).to_numpy()\n",
    "        \n",
    "        self.W = np.zeros((N,self.C))\n",
    "        \n",
    "        for i in range(self.n_iters):\n",
    "            if(i>44 or i%5 == 0):\n",
    "                print(self.W)\n",
    "            \n",
    "            grad = (X.T @ (np.exp(X @ self.W) / np.sum(np.exp(X @ self.W), axis=1)[np.newaxis,1] - y)) / M \\\n",
    "                + (self.lam * np.linalg.norm(self.W))\n",
    "            grad[:,self.C-1] = 0\n",
    "            self.W -= self.alpha * grad\n",
    "    \n",
    "    def predict(self, X):\n",
    "        M = X.shape[0]\n",
    "        X = np.hstack([np.ones((M,1)), X]) \n",
    "        \n",
    "        return this.W"
   ]
  },
  {
   "cell_type": "code",
   "execution_count": 136,
   "metadata": {
    "scrolled": true
   },
   "outputs": [
    {
     "name": "stdout",
     "output_type": "stream",
     "text": [
      "[[0. 0.]\n",
      " [0. 0.]\n",
      " [0. 0.]]\n",
      "[[-0.05483078  0.        ]\n",
      " [-0.05525036  0.        ]\n",
      " [-0.26607632  0.        ]]\n",
      "[[-0.29383563  0.        ]\n",
      " [-0.18564981  0.        ]\n",
      " [-0.56373444  0.        ]]\n",
      "[[-0.83419486  0.        ]\n",
      " [-0.38549669  0.        ]\n",
      " [-0.9143595   0.        ]]\n",
      "[[-1.87421536  0.        ]\n",
      " [-0.67172104  0.        ]\n",
      " [-1.41285671  0.        ]]\n",
      "[[-3.80498682  0.        ]\n",
      " [-1.02798475  0.        ]\n",
      " [-2.2368144   0.        ]]\n",
      "[[-7.38362414  0.        ]\n",
      " [-1.42766392  0.        ]\n",
      " [-3.67201157  0.        ]]\n",
      "[[-14.05733762   0.        ]\n",
      " [ -1.98021354   0.        ]\n",
      " [ -6.24231312   0.        ]]\n",
      "[[-29.0533037    0.        ]\n",
      " [  4.59146812   0.        ]\n",
      " [ -6.317638     0.        ]]\n",
      "[[nan  0.]\n",
      " [nan  0.]\n",
      " [nan  0.]]\n",
      "[[nan  0.]\n",
      " [nan  0.]\n",
      " [nan  0.]]\n",
      "[[nan  0.]\n",
      " [nan  0.]\n",
      " [nan  0.]]\n",
      "[[nan  0.]\n",
      " [nan  0.]\n",
      " [nan  0.]]\n",
      "[[nan  0.]\n",
      " [nan  0.]\n",
      " [nan  0.]]\n"
     ]
    },
    {
     "name": "stderr",
     "output_type": "stream",
     "text": [
      "<ipython-input-135-437d4648249f>:27: RuntimeWarning: overflow encountered in exp\n",
      "  grad = (X.T @ (np.exp(X @ self.W) / np.sum(np.exp(X @ self.W), axis=1)[np.newaxis,1] - y)) / M \\\n",
      "<ipython-input-135-437d4648249f>:27: RuntimeWarning: invalid value encountered in true_divide\n",
      "  grad = (X.T @ (np.exp(X @ self.W) / np.sum(np.exp(X @ self.W), axis=1)[np.newaxis,1] - y)) / M \\\n"
     ]
    },
    {
     "data": {
      "text/plain": [
       "array([[nan,  0.],\n",
       "       [nan,  0.],\n",
       "       [nan,  0.]])"
      ]
     },
     "execution_count": 136,
     "metadata": {},
     "output_type": "execute_result"
    }
   ],
   "source": [
    "model = MultinomialLogisticRegression(C = 2)\n",
    "model.fit(X, y)\n",
    "model.W"
   ]
  },
  {
   "cell_type": "code",
   "execution_count": 157,
   "metadata": {},
   "outputs": [
    {
     "name": "stdout",
     "output_type": "stream",
     "text": [
      "(3,)\n",
      "(2,)\n"
     ]
    },
    {
     "name": "stderr",
     "output_type": "stream",
     "text": [
      "<ipython-input-157-eb9a2e6312d3>:4: RuntimeWarning: invalid value encountered in true_divide\n",
      "  lineY = (-model.W[0] - model.W[1]*lineX)/model.W[2]\n"
     ]
    },
    {
     "data": {
      "text/plain": [
       "[<matplotlib.lines.Line2D at 0x7f9321867220>]"
      ]
     },
     "execution_count": 157,
     "metadata": {},
     "output_type": "execute_result"
    },
    {
     "data": {
      "image/png": "[encoded data removed]",
      "text/plain": [
       "<Figure size 432x288 with 1 Axes>"
      ]
     },
     "metadata": {
      "needs_background": "light"
     },
     "output_type": "display_data"
    }
   ],
   "source": [
    "lineX = np.array([-3.5, 3.5])\n",
    "print(model.W[:,0].shape)\n",
    "print(lineX.shape)\n",
    "lineY = (-model.W[0,0] - model.W[1,0]*lineX)/model.W[2]\n",
    "plt.plot([-3.5, 3.5], lineY)"
   ]
  },
  {
   "cell_type": "markdown",
   "metadata": {},
   "source": [
    "Testing on toy data"
   ]
  },
  {
   "cell_type": "code",
   "execution_count": 137,
   "metadata": {
    "scrolled": true
   },
   "outputs": [
    {
     "data": {
      "text/plain": [
       "array([[-0.85586586,  1.6271912 ],\n",
       "       [ 2.02349903, -0.33710054],\n",
       "       [-3.43329393, -2.12398587],\n",
       "       [-2.36864907, -1.41423318],\n",
       "       [ 1.11542678,  0.06434381]])"
      ]
     },
     "execution_count": 137,
     "metadata": {},
     "output_type": "execute_result"
    }
   ],
   "source": [
    "from sklearn.datasets import make_classification\n",
    "\n",
    "X, y = make_classification(n_samples=100, n_features=2, n_redundant=0, random_state=35)\n",
    "X[0:5]"
   ]
  },
  {
   "cell_type": "code",
   "execution_count": 143,
   "metadata": {},
   "outputs": [],
   "source": [
    "from sklearn.model_selection import train_test_split\n",
    "from sklearn.preprocessing import StandardScaler\n",
    "\n",
    "X_train, X_test, y_train, y_test = train_test_split(X, y, test_size=0.33, random_state = 35)\n",
    "\n",
    "scaler = StandardScaler()\n",
    "\n",
    "X_train = scaler.fit_transform(X_train)\n",
    "X_test = scaler.transform(X_test)"
   ]
  },
  {
   "cell_type": "code",
   "execution_count": 145,
   "metadata": {
    "scrolled": true
   },
   "outputs": [
    {
     "data": {
      "text/plain": [
       "<matplotlib.collections.PathCollection at 0x7f9323b62460>"
      ]
     },
     "execution_count": 145,
     "metadata": {},
     "output_type": "execute_result"
    },
    {
     "data": {
      "image/png": "[encoded data removed]",
      "text/plain": [
       "<Figure size 432x288 with 1 Axes>"
      ]
     },
     "metadata": {
      "needs_background": "light"
     },
     "output_type": "display_data"
    }
   ],
   "source": [
    "plt.scatter(X[:,0], X[:,1], c = y)"
   ]
  },
  {
   "cell_type": "code",
   "execution_count": null,
   "metadata": {},
   "outputs": [],
   "source": []
  },
  {
   "cell_type": "code",
   "execution_count": null,
   "metadata": {},
   "outputs": [],
   "source": []
  },
  {
   "cell_type": "code",
   "execution_count": null,
   "metadata": {},
   "outputs": [],
   "source": []
  },
  {
   "cell_type": "code",
   "execution_count": null,
   "metadata": {},
   "outputs": [],
   "source": []
  },
  {
   "cell_type": "code",
   "execution_count": null,
   "metadata": {},
   "outputs": [],
   "source": []
  },
  {
   "cell_type": "code",
   "execution_count": null,
   "metadata": {},
   "outputs": [],
   "source": []
  },
  {
   "cell_type": "code",
   "execution_count": null,
   "metadata": {},
   "outputs": [],
   "source": []
  }
 ],
 "metadata": {
  "kernelspec": {
   "display_name": "Python 3",
   "language": "python",
   "name": "python3"
  },
  "language_info": {
   "codemirror_mode": {
    "name": "ipython",
    "version": 3
   },
   "file_extension": ".py",
   "mimetype": "text/x-python",
   "name": "python",
   "nbconvert_exporter": "python",
   "pygments_lexer": "ipython3",
   "version": "3.8.2"
  }
 },
 "nbformat": 4,
 "nbformat_minor": 4
}
