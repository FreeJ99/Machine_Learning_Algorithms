{
 "cells": [
  {
   "cell_type": "code",
   "execution_count": 1,
   "metadata": {},
   "outputs": [],
   "source": [
    "import numpy as np"
   ]
  },
  {
   "cell_type": "code",
   "execution_count": 2,
   "metadata": {},
   "outputs": [
    {
     "data": {
      "text/plain": [
       "array([0.26894142, 0.5       , 0.73105858])"
      ]
     },
     "execution_count": 2,
     "metadata": {},
     "output_type": "execute_result"
    }
   ],
   "source": [
    "def sigmoid(x):\n",
    "    return 1 / (1 + np.exp(-x))\n",
    "\n",
    "sigmoid(np.array([-1,0,1]))"
   ]
  },
  {
   "cell_type": "code",
   "execution_count": 3,
   "metadata": {
    "scrolled": true
   },
   "outputs": [],
   "source": [
    "#X: Mx(N-1), _X: MxN \n",
    "#y: M, _y: 1xM\n",
    "class LogisticRegression:\n",
    "    def __init__(self, alpha=0.1, n_steps=10, lamb = 1):\n",
    "        self.w = 0\n",
    "        self.alpha = alpha\n",
    "        self.n_steps = n_steps\n",
    "        self.lamb = lamb\n",
    "        \n",
    "    def fit(self, X, y):\n",
    "        M = X.shape[0]\n",
    "        N = X.shape[1] + 1\n",
    "        _X = np.hstack([np.ones((M,1)), X])\n",
    "        _y = y.reshape(M, 1)\n",
    "\n",
    "        self.w = np.random.randn(N, 1)\n",
    "        for i in range(self.n_steps):\n",
    "            grad = (1/M) * np.matmul(_X.T, sigmoid(np.matmul(_X, self.w) -_y))\n",
    "            self.w -= self.alpha * grad\n",
    "            \n",
    "            if i%(self.n_steps/10) == 0:\n",
    "                print(np.linalg.norm(grad))\n",
    "                print(\"gradient shape \", grad.shape)\n",
    "                \n",
    "    \n",
    "    def predict(self, X):\n",
    "        M = X.shape[0]\n",
    "        N = X.shape[1] + 1\n",
    "        _X = np.hstack([np.ones((M,1)), X])\n",
    "        \n",
    "        prob = sigmoid(np.matmul(_X, self.w))\n",
    "        return (0.5 <= prob)\n",
    "    \n",
    "    def predict_prob(self, X):\n",
    "        M = X.shape[0]\n",
    "        N = X.shape[1] + 1\n",
    "        _X = np.hstack([np.ones((M,1)), X])\n",
    "        \n",
    "        prob = sigmoid(np.matmul(_X, self.w))\n",
    "        return prob"
   ]
  },
  {
   "cell_type": "code",
   "execution_count": 4,
   "metadata": {
    "scrolled": true
   },
   "outputs": [
    {
     "name": "stdout",
     "output_type": "stream",
     "text": [
      "10.710459824440056\n"
     ]
    }
   ],
   "source": [
    "from sklearn.datasets import load_breast_cancer\n",
    "from sklearn.preprocessing import StandardScaler\n",
    "\n",
    "bc = load_breast_cancer()\n",
    "X = bc.data\n",
    "y = bc.target\n",
    "\n",
    "scaler = StandardScaler()\n",
    "X = scaler.fit_transform(X)\n",
    "\n",
    "print(np.linalg.norm(X[0]))"
   ]
  },
  {
   "cell_type": "code",
   "execution_count": 5,
   "metadata": {},
   "outputs": [
    {
     "name": "stdout",
     "output_type": "stream",
     "text": [
      "0.6367464233073079\n",
      "gradient shape  (31, 1)\n",
      "0.1162501802072376\n",
      "gradient shape  (31, 1)\n",
      "0.04948678904770193\n",
      "gradient shape  (31, 1)\n",
      "0.03126405772154694\n",
      "gradient shape  (31, 1)\n",
      "0.02302415575069898\n",
      "gradient shape  (31, 1)\n",
      "0.01831173435813185\n",
      "gradient shape  (31, 1)\n",
      "0.015242640648982992\n",
      "gradient shape  (31, 1)\n",
      "0.01307625080766525\n",
      "gradient shape  (31, 1)\n",
      "0.011461292949256177\n",
      "gradient shape  (31, 1)\n",
      "0.010208909228147219\n",
      "gradient shape  (31, 1)\n",
      "\n",
      " 0.37258347978910367\n"
     ]
    }
   ],
   "source": [
    "from metrics import ACC\n",
    "\n",
    "model = LogisticRegression(alpha=0.1, n_steps=1000)\n",
    "model.fit(X, y)\n",
    "\n",
    "#model.predict_prob(X)\n",
    "print(\"\\n\", ACC(model, X, y))"
   ]
  },
  {
   "cell_type": "code",
   "execution_count": 6,
   "metadata": {},
   "outputs": [
    {
     "data": {
      "text/plain": [
       "0.9876977152899824"
      ]
     },
     "execution_count": 6,
     "metadata": {},
     "output_type": "execute_result"
    }
   ],
   "source": [
    "from sklearn.linear_model import LogisticRegression\n",
    "\n",
    "lr = LogisticRegression(solver='lbfgs')\n",
    "lr.fit(X, y)\n",
    "ACC(lr, X, y)"
   ]
  },
  {
   "cell_type": "code",
   "execution_count": null,
   "metadata": {},
   "outputs": [],
   "source": []
  }
 ],
 "metadata": {
  "kernelspec": {
   "display_name": "Python 3",
   "language": "python",
   "name": "python3"
  },
  "language_info": {
   "codemirror_mode": {
    "name": "ipython",
    "version": 3
   },
   "file_extension": ".py",
   "mimetype": "text/x-python",
   "name": "python",
   "nbconvert_exporter": "python",
   "pygments_lexer": "ipython3",
   "version": "3.8.2"
  }
 },
 "nbformat": 4,
 "nbformat_minor": 2
}
