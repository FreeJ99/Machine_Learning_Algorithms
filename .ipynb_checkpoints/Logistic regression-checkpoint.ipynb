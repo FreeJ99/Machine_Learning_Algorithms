{
 "cells": [
  {
   "cell_type": "code",
   "execution_count": 13,
   "metadata": {},
   "outputs": [],
   "source": [
    "import numpy as np"
   ]
  },
  {
   "cell_type": "code",
   "execution_count": 17,
   "metadata": {},
   "outputs": [
    {
     "data": {
      "text/plain": [
       "0.5"
      ]
     },
     "execution_count": 17,
     "metadata": {},
     "output_type": "execute_result"
    }
   ],
   "source": [
    "def sigmoid(x):\n",
    "    return 1 / (1 + np.exp(-x))\n",
    "\n",
    "sigmoid(0)"
   ]
  },
  {
   "cell_type": "code",
   "execution_count": 62,
   "metadata": {
    "scrolled": true
   },
   "outputs": [],
   "source": [
    "#X: Mx(N-1), _X: MxN \n",
    "#y: M, _y: 1xM\n",
    "class LogisticRegression:\n",
    "    def __init__(self, alpha=0.1, n_steps=10):\n",
    "        self.w = 0\n",
    "        self.alpha = alpha\n",
    "        self.n_steps = n_steps\n",
    "        \n",
    "    def fit(self, X, y):\n",
    "        M = X.shape[0]\n",
    "        N = X.shape[1] + 1\n",
    "        _X = np.hstack([np.ones((M,1)), X])\n",
    "        _y = y.reshape(M, 1)\n",
    "\n",
    "        self.w = np.random.randn(N, 1)\n",
    "        for i in range(self.n_steps):\n",
    "            grad = (1/M) * np.matmul(_X.T, _y - sigmoid(np.matmul(_X, self.w)))\n",
    "            #print(np.linalg.norm(grad))\n",
    "            self.w -= self.alpha * grad\n",
    "    \n",
    "    def predict(self, X):\n",
    "        M = X.shape[0]\n",
    "        N = X.shape[1] + 1\n",
    "        _X = np.hstack([np.ones((M,1)), X])\n",
    "        \n",
    "        prob = sigmoid(no.matmul(X, w))\n",
    "        return 0.5 <= prob\n",
    "    \n",
    "    def predict_prob(self, X):\n",
    "        M = X.shape[0]\n",
    "        N = X.shape[1] + 1\n",
    "        _X = np.hstack([np.ones((M,1)), X])\n",
    "        \n",
    "        prob = sigmoid(no.matmul(X, w))\n",
    "        return prob"
   ]
  },
  {
   "cell_type": "code",
   "execution_count": 63,
   "metadata": {},
   "outputs": [],
   "source": [
    "from sklearn.datasets import load_iris\n",
    "\n",
    "iris = load_iris()\n",
    "X = iris.data\n",
    "y = iris.target\n",
    "\n",
    "model = LogisticRegression()\n",
    "model.fit(X, y)"
   ]
  },
  {
   "cell_type": "code",
   "execution_count": null,
   "metadata": {},
   "outputs": [],
   "source": []
  }
 ],
 "metadata": {
  "kernelspec": {
   "display_name": "Python 3",
   "language": "python",
   "name": "python3"
  },
  "language_info": {
   "codemirror_mode": {
    "name": "ipython",
    "version": 3
   },
   "file_extension": ".py",
   "mimetype": "text/x-python",
   "name": "python",
   "nbconvert_exporter": "python",
   "pygments_lexer": "ipython3",
   "version": "3.6.10"
  }
 },
 "nbformat": 4,
 "nbformat_minor": 2
}
