{
 "cells": [
  {
   "cell_type": "code",
   "execution_count": 1,
   "metadata": {},
   "outputs": [],
   "source": [
    "import numpy as np"
   ]
  },
  {
   "cell_type": "code",
   "execution_count": 48,
   "metadata": {},
   "outputs": [],
   "source": [
    "#X: Mx(N-1), y: M\n",
    "#Xw: MxN, yw: Mx1\n",
    "class LinearRegressionL2:\n",
    "    def __init__(self, regParam = 0):\n",
    "        self.regParam = regParam\n",
    "        self.w = 0\n",
    "        \n",
    "    def fitNormalEquation(self, X, y):\n",
    "        N = X.shape[1]+1\n",
    "        M = X.shape[0]\n",
    "        Xw = np.hstack((np.ones((M,1)), X))\n",
    "        yw = y.reshape(M, 1)\n",
    "        \n",
    "        self.w = np.matmul(np.matmul(np.linalg.inv(np.matmul(Xw.T, Xw) + self.regParam*np.eye(N)), Xw.T), yw)\n",
    "        \n",
    "    def fitGradientDescent(self, X, y, alpha):\n",
    "        N = X.shape[1]+1\n",
    "        M = X.shape[0]\n",
    "        Xw = np.hstack((np.ones((M,1)), X))\n",
    "        yw = y.reshape(M, 1)\n",
    "        \n",
    "        self.w = np.random.randn(N, 1)\n",
    "        #print(Xw.T.shape)\n",
    "        #print((np.matmul(Xw, self.w) + yw).shape)\n",
    "        #print(np.matmul(Xw.T, np.matmul(Xw, self.w) + yw).shape)\n",
    "        for i in range(500):\n",
    "            grad = np.matmul(Xw.T, np.matmul(Xw, self.w) + yw) + self.regParam*self.w\n",
    "            #print(grad)\n",
    "            grad = grad / np.mean(grad)\n",
    "            self.w -= alpha*grad\n",
    "    \n",
    "    def predict(self, X):\n",
    "        M = X.shape[0]\n",
    "        Xw = np.hstack((np.ones((M,1)), X))\n",
    "        return np.ravel(np.matmul(Xw, self.w))"
   ]
  },
  {
   "cell_type": "code",
   "execution_count": 49,
   "metadata": {},
   "outputs": [],
   "source": [
    "from sklearn.datasets import load_boston\n",
    "from metrics import MSE\n",
    "from metrics import R2"
   ]
  },
  {
   "cell_type": "code",
   "execution_count": 64,
   "metadata": {
    "scrolled": false
   },
   "outputs": [
    {
     "name": "stdout",
     "output_type": "stream",
     "text": [
      "21.894831181729206\n",
      "0.7406426641094094\n",
      "[[ 3.64594884e+01]\n",
      " [-1.08011358e-01]\n",
      " [ 4.64204584e-02]\n",
      " [ 2.05586264e-02]\n",
      " [ 2.68673382e+00]\n",
      " [-1.77666112e+01]\n",
      " [ 3.80986521e+00]\n",
      " [ 6.92224640e-04]\n",
      " [-1.47556685e+00]\n",
      " [ 3.06049479e-01]\n",
      " [-1.23345939e-02]\n",
      " [-9.52747232e-01]\n",
      " [ 9.31168327e-03]\n",
      " [-5.24758378e-01]]\n",
      "\n",
      "3422.565390743267\n",
      "-39.54232865678601\n"
     ]
    }
   ],
   "source": [
    "#Testing and comparing\n",
    "\n",
    "boston = load_boston()\n",
    "X = boston.data\n",
    "y = boston.target\n",
    "\n",
    "model = LinearRegressionL2(0)\n",
    "\n",
    "model.fitNormalEquation(X, y)\n",
    "print(MSE(model, X, y))\n",
    "print(R2(model, X, y))\n",
    "print(model.w)\n",
    "print()\n",
    "\n",
    "model.fitGradientDescent(X, y, 0.01)\n",
    "print(MSE(model, X, y))\n",
    "print(R2(model, X, y))"
   ]
  },
  {
   "cell_type": "code",
   "execution_count": null,
   "metadata": {},
   "outputs": [],
   "source": []
  }
 ],
 "metadata": {
  "kernelspec": {
   "display_name": "Python 3",
   "language": "python",
   "name": "python3"
  },
  "language_info": {
   "codemirror_mode": {
    "name": "ipython",
    "version": 3
   },
   "file_extension": ".py",
   "mimetype": "text/x-python",
   "name": "python",
   "nbconvert_exporter": "python",
   "pygments_lexer": "ipython3",
   "version": "3.6.10"
  }
 },
 "nbformat": 4,
 "nbformat_minor": 2
}
