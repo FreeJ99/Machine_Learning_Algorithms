{
 "cells": [
  {
   "cell_type": "code",
   "execution_count": 4,
   "metadata": {},
   "outputs": [],
   "source": [
    "import numpy as np\n",
    "import pandas as pd\n",
    "import matplotlib.pyplot as plt"
   ]
  },
  {
   "cell_type": "markdown",
   "metadata": {},
   "source": [
    "### Algorithms"
   ]
  },
  {
   "cell_type": "code",
   "execution_count": 5,
   "metadata": {},
   "outputs": [],
   "source": [
    "#X: Mx(N-1), y: M\n",
    "#Xw: MxN, yw: Mx1\n",
    "class LinearRegressionNE:\n",
    "    def __init__(self, regParam = 1):\n",
    "        self.regParam = regParam\n",
    "        self.w = 0\n",
    "    \n",
    "    def fit(self, X, y):\n",
    "        N = X.shape[1]+1\n",
    "        M = X.shape[0]\n",
    "        Xw = np.hstack((np.ones((M,1)), X))\n",
    "        yw = y.reshape(M, 1)\n",
    "        \n",
    "        self.w = np.matmul(np.matmul(np.linalg.inv(np.matmul(Xw.T, Xw) + self.regParam*np.eye(N)), Xw.T), yw)\n",
    "        \n",
    "    def fitGradientDescent(self, X, y):\n",
    "        N = X.shape[1]+1\n",
    "        M = X.shape[0]\n",
    "        Xw = np.hstack((np.ones((M,1)), X))\n",
    "        yw = y.reshape(M, 1)\n",
    "        \n",
    "        self.w = 100 * np.random.randn(N, 1)\n",
    "        for i in range(self.n_iter):\n",
    "            grad = (1/M) * (np.matmul(Xw.T, np.matmul(Xw, self.w) - yw) + self.regParam*self.w)\n",
    "            self.w -= self.alpha*grad\n",
    "    \n",
    "    def predict(self, X):\n",
    "        M = X.shape[0]\n",
    "        Xw = np.hstack((np.ones((M,1)), X))\n",
    "        return np.ravel(np.matmul(Xw, self.w))"
   ]
  },
  {
   "cell_type": "code",
   "execution_count": 6,
   "metadata": {},
   "outputs": [],
   "source": [
    "#X: Mx(N-1), y: M\n",
    "#Xw: MxN, yw: Mx1\n",
    "class LinearRegressionGD:\n",
    "    def __init__(self, regParam = 1, alpha=0.1, n_iter=500):\n",
    "        self.regParam = regParam\n",
    "        self.w = 0\n",
    "        self.alpha = alpha\n",
    "        self.n_iter = n_iter\n",
    "    \n",
    "    def fit(self, X, y):\n",
    "        N = X.shape[1]+1\n",
    "        M = X.shape[0]\n",
    "        Xw = np.hstack((np.ones((M,1)), X))\n",
    "        yw = y.reshape(M, 1)\n",
    "        \n",
    "        self.w = 100 * np.random.randn(N, 1)\n",
    "        for i in range(self.n_iter):\n",
    "            grad = (1/M) * (np.matmul(Xw.T, np.matmul(Xw, self.w) - yw) + self.regParam*self.w)\n",
    "            self.w -= self.alpha*grad\n",
    "    \n",
    "    def predict(self, X):\n",
    "        M = X.shape[0]\n",
    "        Xw = np.hstack((np.ones((M,1)), X))\n",
    "        return np.ravel(np.matmul(Xw, self.w))"
   ]
  },
  {
   "cell_type": "markdown",
   "metadata": {},
   "source": [
    "### Testing on toy data"
   ]
  },
  {
   "cell_type": "markdown",
   "metadata": {},
   "source": [
    "Generating data"
   ]
  },
  {
   "cell_type": "code",
   "execution_count": 37,
   "metadata": {
    "scrolled": false
   },
   "outputs": [
    {
     "data": {
      "text/plain": [
       "<matplotlib.collections.PathCollection at 0x7f9dbafb50a0>"
      ]
     },
     "execution_count": 37,
     "metadata": {},
     "output_type": "execute_result"
    },
    {
     "data": {
      "image/png": "[encoded data removed]",
      "text/plain": [
       "<Figure size 432x288 with 1 Axes>"
      ]
     },
     "metadata": {
      "needs_background": "light"
     },
     "output_type": "display_data"
    }
   ],
   "source": [
    "np.random.seed(37)\n",
    "\n",
    "M = 20\n",
    "\n",
    "X = np.linspace(-10, 10, M)\n",
    "#linear regression assumes normal distribution of y given x\n",
    "y = 4 + 2*X + 4*np.random.randn(M) \n",
    "X = X.reshape(-1, 1)\n",
    "\n",
    "plt.scatter(X, y)"
   ]
  },
  {
   "cell_type": "markdown",
   "metadata": {},
   "source": [
    "Data preparation"
   ]
  },
  {
   "cell_type": "code",
   "execution_count": 38,
   "metadata": {},
   "outputs": [],
   "source": [
    "from sklearn.model_selection import train_test_split\n",
    "from sklearn.preprocessing import StandardScaler\n",
    "\n",
    "X_train, X_test, y_train, y_test = train_test_split(X, y, test_size=0.33, random_state = 37)\n",
    "\n",
    "scaler = StandardScaler()\n",
    "X_train = scaler.fit_transform(X_train)\n",
    "X_test = scaler.transform(X_test)"
   ]
  },
  {
   "cell_type": "markdown",
   "metadata": {},
   "source": [
    "Training"
   ]
  },
  {
   "cell_type": "code",
   "execution_count": 64,
   "metadata": {},
   "outputs": [],
   "source": [
    "modelne = LinearRegressionNE()\n",
    "modelgd = LinearRegressionGD(n_iter=50)\n",
    "\n",
    "modelne.fit(X_train, y_train)\n",
    "modelgd.fit(X_train, y_train)"
   ]
  },
  {
   "cell_type": "markdown",
   "metadata": {},
   "source": [
    "Testing"
   ]
  },
  {
   "cell_type": "code",
   "execution_count": 65,
   "metadata": {},
   "outputs": [
    {
     "name": "stdout",
     "output_type": "stream",
     "text": [
      "Normal equation\n",
      "train: 0.9205176242573451\n",
      "test: 0.9489981755984712\n",
      "Gradient descent\n",
      "train: 0.9131834710011674\n",
      "test: 0.9732091573288277\n"
     ]
    }
   ],
   "source": [
    "from sklearn.metrics import r2_score\n",
    "\n",
    "predne_train = modelne.predict(X_train)\n",
    "predne_test = modelne.predict(X_test)\n",
    "predgd_train = modelgd.predict(X_train)\n",
    "predgd_test = modelgd.predict(X_test)\n",
    "\n",
    "print('Normal equation')\n",
    "print('train:', r2_score(y_train, predne_train))\n",
    "print('test:', r2_score(y_test, predne_test))\n",
    "print('Gradient descent')\n",
    "print('train:', r2_score(y_train, predgd_train))\n",
    "print('test:', r2_score(y_test, predgd_test))"
   ]
  },
  {
   "cell_type": "code",
   "execution_count": 66,
   "metadata": {},
   "outputs": [
    {
     "name": "stdout",
     "output_type": "stream",
     "text": [
      "[[-2.422055  ]\n",
      " [ 1.70379042]]\n"
     ]
    },
    {
     "data": {
      "text/plain": [
       "<matplotlib.legend.Legend at 0x7f9db9cf8880>"
      ]
     },
     "execution_count": 66,
     "metadata": {},
     "output_type": "execute_result"
    },
    {
     "data": {
      "image/png": "[encoded data removed]",
      "text/plain": [
       "<Figure size 432x288 with 1 Axes>"
      ]
     },
     "metadata": {
      "needs_background": "light"
     },
     "output_type": "display_data"
    }
   ],
   "source": [
    "plt.scatter(X_train, y_train, label='train')\n",
    "plt.scatter(X_test, y_test, label='test')\n",
    "\n",
    "pts = np.array([np.min([np.min(X_train), np.min(X_test)]), np.max([np.max(X_train), np.max(X_test)])])\n",
    "print(pts.reshape(-1,1))\n",
    "plt.plot(pts, modelne.predict(pts.reshape(-1,1)), label='NE')\n",
    "plt.plot(pts, modelgd.predict(pts.reshape(-1,1)), label='GD')\n",
    "plt.legend()"
   ]
  },
  {
   "cell_type": "markdown",
   "metadata": {},
   "source": [
    "### Testing on real data"
   ]
  },
  {
   "cell_type": "code",
   "execution_count": 215,
   "metadata": {
    "scrolled": false
   },
   "outputs": [
    {
     "name": "stdout",
     "output_type": "stream",
     "text": [
      "(0.7323603859285461, 0.7519391666500927)\n",
      "0.7053024472824967\n",
      "\n",
      "(0.7480322218179007, 0.7034487020834899)\n",
      "0.6835594892940965\n"
     ]
    }
   ],
   "source": [
    "# Testing and comparing\n",
    "\n",
    "scaler = StandardScaler()\n",
    "\n",
    "boston = load_boston()\n",
    "X = boston.data\n",
    "#SHOULDN'T USE TEST DATA FOR FITTING SCALER\n",
    "X = scaler.fit_transform(X)\n",
    "y = boston.target\n",
    "#print(boston.target)\n",
    "\n",
    "model1 = LinearRegressionL2(0, 'ne')\n",
    "\n",
    "print(trainTestEvaluate(model1, X, y, R2, 0.2))\n",
    "print(np.mean(crossValidationEvaluate(model1, X, y, R2)[1]))\n",
    "print()\n",
    "\n",
    "model2 = LinearRegressionL2(0, 'gd', alpha=0.1)\n",
    "print(trainTestEvaluate(model1, X, y, R2, 0.2))\n",
    "print(np.mean(crossValidationEvaluate(model2, X, y, R2)[1]))"
   ]
  },
  {
   "cell_type": "code",
   "execution_count": 217,
   "metadata": {},
   "outputs": [
    {
     "name": "stdout",
     "output_type": "stream",
     "text": [
      "Train:  0.7936282917674443\n",
      "Test: 0.7635085986322769\n",
      "Train:  0.7957296951033466\n",
      "Test: 0.7438332550967268\n"
     ]
    }
   ],
   "source": [
    "#adding polynomial features\n",
    "#0 regularization for yields terrible results because of correlated columns\n",
    "#too small regulariation yields terrible results for high degree polynomial features (overfitting)\n",
    "#gradient descent doesn't work with deg>=3???\n",
    "X = boston.data\n",
    "y = boston.target\n",
    "\n",
    "Xs = []\n",
    "for i in range(1, 3):\n",
    "    Xs.append(X**i)\n",
    "X = np.hstack(Xs)\n",
    "X = scaler.fit_transform(X)\n",
    "\n",
    "model1 = LinearRegressionL2(10, method='ne')\n",
    "print(\"Train: \", np.mean(crossValidationEvaluate(model1, X, y, R2)[0]))\n",
    "print(\"Test:\", np.mean(crossValidationEvaluate(model1, X, y, R2)[1]))\n",
    "\n",
    "model1 = LinearRegressionL2(1, method='gd', alpha=0.1, n_iter=4000)\n",
    "print(\"Train: \", np.mean(crossValidationEvaluate(model1, X, y, R2)[0]))\n",
    "print(\"Test:\", np.mean(crossValidationEvaluate(model1, X, y, R2)[1]))"
   ]
  },
  {
   "cell_type": "code",
   "execution_count": 200,
   "metadata": {},
   "outputs": [
    {
     "name": "stdout",
     "output_type": "stream",
     "text": [
      "Train:  0.8855589266615068\n",
      "Test: 0.8223767162164615\n",
      "Train:  -75.3058843471031\n",
      "Test: -74.8740190361901\n"
     ]
    }
   ],
   "source": [
    "#adding feature combinations\n",
    "X = boston.data\n",
    "y = boston.target\n",
    "\n",
    "Xs = []\n",
    "for i in range(X.shape[0]):\n",
    "    row = X[i].reshape(1, -1)\n",
    "    Xs.append(np.ravel(np.matmul(row.T, row)).reshape(1, -1))\n",
    "    \n",
    "X = np.hstack([X, np.vstack(Xs)])\n",
    "X = scaler.fit_transform(X)\n",
    "#print(X[0])\n",
    "\n",
    "model1 = LinearRegressionL2(10, method='ne')\n",
    "print(\"Train: \", np.mean(crossValidationEvaluate(model1, X, y, R2)[0]))\n",
    "print(\"Test:\", np.mean(crossValidationEvaluate(model1, X, y, R2)[1]))\n",
    "\n",
    "#probably would have to decay alpha to get decent results\n",
    "model1 = LinearRegressionL2(1, method='gd', alpha=0.01, n_iter=1000)\n",
    "print(\"Train: \", np.mean(crossValidationEvaluate(model1, X, y, R2)[0]))\n",
    "print(\"Test:\", np.mean(crossValidationEvaluate(model1, X, y, R2)[1]))"
   ]
  },
  {
   "cell_type": "code",
   "execution_count": null,
   "metadata": {},
   "outputs": [],
   "source": []
  },
  {
   "cell_type": "code",
   "execution_count": null,
   "metadata": {},
   "outputs": [],
   "source": []
  },
  {
   "cell_type": "code",
   "execution_count": null,
   "metadata": {},
   "outputs": [],
   "source": []
  },
  {
   "cell_type": "code",
   "execution_count": null,
   "metadata": {},
   "outputs": [],
   "source": []
  },
  {
   "cell_type": "code",
   "execution_count": null,
   "metadata": {},
   "outputs": [],
   "source": []
  },
  {
   "cell_type": "code",
   "execution_count": null,
   "metadata": {},
   "outputs": [],
   "source": []
  },
  {
   "cell_type": "code",
   "execution_count": 7,
   "metadata": {
    "scrolled": true
   },
   "outputs": [
    {
     "data": {
      "text/plain": [
       "dict_keys(['data', 'target', 'feature_names', 'DESCR'])"
      ]
     },
     "execution_count": 7,
     "metadata": {},
     "output_type": "execute_result"
    }
   ],
   "source": [
    "from sklearn.datasets import fetch_california_housing\n",
    "\n",
    "cf = fetch_california_housing()\n",
    "cf.keys()"
   ]
  },
  {
   "cell_type": "code",
   "execution_count": 8,
   "metadata": {},
   "outputs": [
    {
     "data": {
      "text/plain": [
       "['MedInc',\n",
       " 'HouseAge',\n",
       " 'AveRooms',\n",
       " 'AveBedrms',\n",
       " 'Population',\n",
       " 'AveOccup',\n",
       " 'Latitude',\n",
       " 'Longitude']"
      ]
     },
     "execution_count": 8,
     "metadata": {},
     "output_type": "execute_result"
    }
   ],
   "source": [
    "cf.feature_names"
   ]
  },
  {
   "cell_type": "code",
   "execution_count": 9,
   "metadata": {},
   "outputs": [],
   "source": [
    "import pandas as pd\n",
    "\n",
    "df = pd.DataFrame(np.hstack((cf.data, cf.target[:, np.newaxis])), columns=cf.feature_names + ['target'])"
   ]
  },
  {
   "cell_type": "code",
   "execution_count": 10,
   "metadata": {
    "scrolled": true
   },
   "outputs": [
    {
     "data": {
      "text/html": [
       "<div>\n",
       "<style scoped>\n",
       "    .dataframe tbody tr th:only-of-type {\n",
       "        vertical-align: middle;\n",
       "    }\n",
       "\n",
       "    .dataframe tbody tr th {\n",
       "        vertical-align: top;\n",
       "    }\n",
       "\n",
       "    .dataframe thead th {\n",
       "        text-align: right;\n",
       "    }\n",
       "</style>\n",
       "<table border=\"1\" class=\"dataframe\">\n",
       "  <thead>\n",
       "    <tr style=\"text-align: right;\">\n",
       "      <th></th>\n",
       "      <th>MedInc</th>\n",
       "      <th>HouseAge</th>\n",
       "      <th>AveRooms</th>\n",
       "      <th>AveBedrms</th>\n",
       "      <th>Population</th>\n",
       "      <th>AveOccup</th>\n",
       "      <th>Latitude</th>\n",
       "      <th>Longitude</th>\n",
       "      <th>target</th>\n",
       "    </tr>\n",
       "  </thead>\n",
       "  <tbody>\n",
       "    <tr>\n",
       "      <td>0</td>\n",
       "      <td>8.3252</td>\n",
       "      <td>41.0</td>\n",
       "      <td>6.984127</td>\n",
       "      <td>1.023810</td>\n",
       "      <td>322.0</td>\n",
       "      <td>2.555556</td>\n",
       "      <td>37.88</td>\n",
       "      <td>-122.23</td>\n",
       "      <td>4.526</td>\n",
       "    </tr>\n",
       "    <tr>\n",
       "      <td>1</td>\n",
       "      <td>8.3014</td>\n",
       "      <td>21.0</td>\n",
       "      <td>6.238137</td>\n",
       "      <td>0.971880</td>\n",
       "      <td>2401.0</td>\n",
       "      <td>2.109842</td>\n",
       "      <td>37.86</td>\n",
       "      <td>-122.22</td>\n",
       "      <td>3.585</td>\n",
       "    </tr>\n",
       "    <tr>\n",
       "      <td>2</td>\n",
       "      <td>7.2574</td>\n",
       "      <td>52.0</td>\n",
       "      <td>8.288136</td>\n",
       "      <td>1.073446</td>\n",
       "      <td>496.0</td>\n",
       "      <td>2.802260</td>\n",
       "      <td>37.85</td>\n",
       "      <td>-122.24</td>\n",
       "      <td>3.521</td>\n",
       "    </tr>\n",
       "    <tr>\n",
       "      <td>3</td>\n",
       "      <td>5.6431</td>\n",
       "      <td>52.0</td>\n",
       "      <td>5.817352</td>\n",
       "      <td>1.073059</td>\n",
       "      <td>558.0</td>\n",
       "      <td>2.547945</td>\n",
       "      <td>37.85</td>\n",
       "      <td>-122.25</td>\n",
       "      <td>3.413</td>\n",
       "    </tr>\n",
       "    <tr>\n",
       "      <td>4</td>\n",
       "      <td>3.8462</td>\n",
       "      <td>52.0</td>\n",
       "      <td>6.281853</td>\n",
       "      <td>1.081081</td>\n",
       "      <td>565.0</td>\n",
       "      <td>2.181467</td>\n",
       "      <td>37.85</td>\n",
       "      <td>-122.25</td>\n",
       "      <td>3.422</td>\n",
       "    </tr>\n",
       "  </tbody>\n",
       "</table>\n",
       "</div>"
      ],
      "text/plain": [
       "   MedInc  HouseAge  AveRooms  AveBedrms  Population  AveOccup  Latitude  \\\n",
       "0  8.3252      41.0  6.984127   1.023810       322.0  2.555556     37.88   \n",
       "1  8.3014      21.0  6.238137   0.971880      2401.0  2.109842     37.86   \n",
       "2  7.2574      52.0  8.288136   1.073446       496.0  2.802260     37.85   \n",
       "3  5.6431      52.0  5.817352   1.073059       558.0  2.547945     37.85   \n",
       "4  3.8462      52.0  6.281853   1.081081       565.0  2.181467     37.85   \n",
       "\n",
       "   Longitude  target  \n",
       "0    -122.23   4.526  \n",
       "1    -122.22   3.585  \n",
       "2    -122.24   3.521  \n",
       "3    -122.25   3.413  \n",
       "4    -122.25   3.422  "
      ]
     },
     "execution_count": 10,
     "metadata": {},
     "output_type": "execute_result"
    }
   ],
   "source": [
    "df.head()"
   ]
  },
  {
   "cell_type": "code",
   "execution_count": 11,
   "metadata": {
    "scrolled": true
   },
   "outputs": [
    {
     "data": {
      "text/html": [
       "<div>\n",
       "<style scoped>\n",
       "    .dataframe tbody tr th:only-of-type {\n",
       "        vertical-align: middle;\n",
       "    }\n",
       "\n",
       "    .dataframe tbody tr th {\n",
       "        vertical-align: top;\n",
       "    }\n",
       "\n",
       "    .dataframe thead th {\n",
       "        text-align: right;\n",
       "    }\n",
       "</style>\n",
       "<table border=\"1\" class=\"dataframe\">\n",
       "  <thead>\n",
       "    <tr style=\"text-align: right;\">\n",
       "      <th></th>\n",
       "      <th>MedInc</th>\n",
       "      <th>HouseAge</th>\n",
       "      <th>AveRooms</th>\n",
       "      <th>AveBedrms</th>\n",
       "      <th>Population</th>\n",
       "      <th>AveOccup</th>\n",
       "      <th>Latitude</th>\n",
       "      <th>Longitude</th>\n",
       "      <th>target</th>\n",
       "    </tr>\n",
       "  </thead>\n",
       "  <tbody>\n",
       "    <tr>\n",
       "      <td>count</td>\n",
       "      <td>20640.000000</td>\n",
       "      <td>20640.000000</td>\n",
       "      <td>20640.000000</td>\n",
       "      <td>20640.000000</td>\n",
       "      <td>20640.000000</td>\n",
       "      <td>20640.000000</td>\n",
       "      <td>20640.000000</td>\n",
       "      <td>20640.000000</td>\n",
       "      <td>20640.000000</td>\n",
       "    </tr>\n",
       "    <tr>\n",
       "      <td>mean</td>\n",
       "      <td>3.870671</td>\n",
       "      <td>28.639486</td>\n",
       "      <td>5.429000</td>\n",
       "      <td>1.096675</td>\n",
       "      <td>1425.476744</td>\n",
       "      <td>3.070655</td>\n",
       "      <td>35.631861</td>\n",
       "      <td>-119.569704</td>\n",
       "      <td>2.068558</td>\n",
       "    </tr>\n",
       "    <tr>\n",
       "      <td>std</td>\n",
       "      <td>1.899822</td>\n",
       "      <td>12.585558</td>\n",
       "      <td>2.474173</td>\n",
       "      <td>0.473911</td>\n",
       "      <td>1132.462122</td>\n",
       "      <td>10.386050</td>\n",
       "      <td>2.135952</td>\n",
       "      <td>2.003532</td>\n",
       "      <td>1.153956</td>\n",
       "    </tr>\n",
       "    <tr>\n",
       "      <td>min</td>\n",
       "      <td>0.499900</td>\n",
       "      <td>1.000000</td>\n",
       "      <td>0.846154</td>\n",
       "      <td>0.333333</td>\n",
       "      <td>3.000000</td>\n",
       "      <td>0.692308</td>\n",
       "      <td>32.540000</td>\n",
       "      <td>-124.350000</td>\n",
       "      <td>0.149990</td>\n",
       "    </tr>\n",
       "    <tr>\n",
       "      <td>25%</td>\n",
       "      <td>2.563400</td>\n",
       "      <td>18.000000</td>\n",
       "      <td>4.440716</td>\n",
       "      <td>1.006079</td>\n",
       "      <td>787.000000</td>\n",
       "      <td>2.429741</td>\n",
       "      <td>33.930000</td>\n",
       "      <td>-121.800000</td>\n",
       "      <td>1.196000</td>\n",
       "    </tr>\n",
       "    <tr>\n",
       "      <td>50%</td>\n",
       "      <td>3.534800</td>\n",
       "      <td>29.000000</td>\n",
       "      <td>5.229129</td>\n",
       "      <td>1.048780</td>\n",
       "      <td>1166.000000</td>\n",
       "      <td>2.818116</td>\n",
       "      <td>34.260000</td>\n",
       "      <td>-118.490000</td>\n",
       "      <td>1.797000</td>\n",
       "    </tr>\n",
       "    <tr>\n",
       "      <td>75%</td>\n",
       "      <td>4.743250</td>\n",
       "      <td>37.000000</td>\n",
       "      <td>6.052381</td>\n",
       "      <td>1.099526</td>\n",
       "      <td>1725.000000</td>\n",
       "      <td>3.282261</td>\n",
       "      <td>37.710000</td>\n",
       "      <td>-118.010000</td>\n",
       "      <td>2.647250</td>\n",
       "    </tr>\n",
       "    <tr>\n",
       "      <td>max</td>\n",
       "      <td>15.000100</td>\n",
       "      <td>52.000000</td>\n",
       "      <td>141.909091</td>\n",
       "      <td>34.066667</td>\n",
       "      <td>35682.000000</td>\n",
       "      <td>1243.333333</td>\n",
       "      <td>41.950000</td>\n",
       "      <td>-114.310000</td>\n",
       "      <td>5.000010</td>\n",
       "    </tr>\n",
       "  </tbody>\n",
       "</table>\n",
       "</div>"
      ],
      "text/plain": [
       "             MedInc      HouseAge      AveRooms     AveBedrms    Population  \\\n",
       "count  20640.000000  20640.000000  20640.000000  20640.000000  20640.000000   \n",
       "mean       3.870671     28.639486      5.429000      1.096675   1425.476744   \n",
       "std        1.899822     12.585558      2.474173      0.473911   1132.462122   \n",
       "min        0.499900      1.000000      0.846154      0.333333      3.000000   \n",
       "25%        2.563400     18.000000      4.440716      1.006079    787.000000   \n",
       "50%        3.534800     29.000000      5.229129      1.048780   1166.000000   \n",
       "75%        4.743250     37.000000      6.052381      1.099526   1725.000000   \n",
       "max       15.000100     52.000000    141.909091     34.066667  35682.000000   \n",
       "\n",
       "           AveOccup      Latitude     Longitude        target  \n",
       "count  20640.000000  20640.000000  20640.000000  20640.000000  \n",
       "mean       3.070655     35.631861   -119.569704      2.068558  \n",
       "std       10.386050      2.135952      2.003532      1.153956  \n",
       "min        0.692308     32.540000   -124.350000      0.149990  \n",
       "25%        2.429741     33.930000   -121.800000      1.196000  \n",
       "50%        2.818116     34.260000   -118.490000      1.797000  \n",
       "75%        3.282261     37.710000   -118.010000      2.647250  \n",
       "max     1243.333333     41.950000   -114.310000      5.000010  "
      ]
     },
     "execution_count": 11,
     "metadata": {},
     "output_type": "execute_result"
    }
   ],
   "source": [
    "df.describe()"
   ]
  },
  {
   "cell_type": "code",
   "execution_count": 12,
   "metadata": {},
   "outputs": [
    {
     "data": {
      "text/plain": [
       "MedInc        0.688075\n",
       "HouseAge      0.105623\n",
       "AveRooms      0.151948\n",
       "AveBedrms    -0.046701\n",
       "Population   -0.024650\n",
       "AveOccup     -0.023737\n",
       "Latitude     -0.144160\n",
       "Longitude    -0.045967\n",
       "target        1.000000\n",
       "dtype: float64"
      ]
     },
     "execution_count": 12,
     "metadata": {},
     "output_type": "execute_result"
    }
   ],
   "source": [
    "df.corrwith(df.target)"
   ]
  },
  {
   "cell_type": "code",
   "execution_count": 13,
   "metadata": {},
   "outputs": [
    {
     "name": "stdout",
     "output_type": "stream",
     "text": [
      "(0.6037876955901122, 0.6149095420121717)\n",
      "0.6011949957744719\n",
      "\n",
      "(0.6083116049132651, 0.5974961293430592)\n",
      "0.6024575388914283\n"
     ]
    }
   ],
   "source": [
    "scaler = StandardScaler()\n",
    "\n",
    "X = cf.data\n",
    "X = scaler.fit_transform(X)\n",
    "y = cf.target\n",
    "#print(boston.target)\n",
    "\n",
    "model1 = LinearRegressionL2(1, 'ne')\n",
    "\n",
    "model1.fitNormalEquation(X, y)\n",
    "print(trainTestEvaluate(model1, X, y, R2, 0.2))\n",
    "print(np.mean(crossValidationEvaluate(model1, X, y, R2)[1]))\n",
    "print()\n",
    "\n",
    "model2 = LinearRegressionL2(1, 'gd')\n",
    "\n",
    "model2.fitGradientDescent(X, y, 0.1, 500)\n",
    "print(trainTestEvaluate(model1, X, y, R2, 0.2))\n",
    "print(np.mean(crossValidationEvaluate(model2, X, y, R2)[1]))"
   ]
  }
 ],
 "metadata": {
  "kernelspec": {
   "display_name": "Python 3",
   "language": "python",
   "name": "python3"
  },
  "language_info": {
   "codemirror_mode": {
    "name": "ipython",
    "version": 3
   },
   "file_extension": ".py",
   "mimetype": "text/x-python",
   "name": "python",
   "nbconvert_exporter": "python",
   "pygments_lexer": "ipython3",
   "version": "3.8.2"
  }
 },
 "nbformat": 4,
 "nbformat_minor": 2
}
