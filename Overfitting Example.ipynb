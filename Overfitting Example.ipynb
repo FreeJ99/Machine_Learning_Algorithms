{
 "cells": [
  {
   "cell_type": "code",
   "execution_count": 33,
   "metadata": {},
   "outputs": [],
   "source": [
    "import numpy as np\n",
    "import matplotlib.pyplot as plt"
   ]
  },
  {
   "cell_type": "code",
   "execution_count": 34,
   "metadata": {},
   "outputs": [],
   "source": [
    "%matplotlib inline"
   ]
  },
  {
   "cell_type": "code",
   "execution_count": 164,
   "metadata": {},
   "outputs": [
    {
     "data": {
      "text/plain": [
       "<matplotlib.collections.PathCollection at 0x7f0e91be7e10>"
      ]
     },
     "execution_count": 164,
     "metadata": {},
     "output_type": "execute_result"
    },
    {
     "data": {
      "image/png": "[encoded data removed]",
      "text/plain": [
       "<Figure size 432x288 with 1 Axes>"
      ]
     },
     "metadata": {
      "needs_background": "light"
     },
     "output_type": "display_data"
    }
   ],
   "source": [
    "X = (np.linspace(0, 5, 15)).reshape(-1, 1)\n",
    "y = X**2 + 3*np.random.randn(15).reshape(-1, 1)\n",
    "plt.scatter(X, y)"
   ]
  },
  {
   "cell_type": "code",
   "execution_count": 183,
   "metadata": {},
   "outputs": [],
   "source": [
    "fts = []\n",
    "for i in range(1, 15):\n",
    "    fts.append(X**i)\n",
    "F = np.hstack(fts)\n",
    "np.random.shuffle(F)\n",
    "\n",
    "F_train = F[0:11]\n",
    "y_train = y[0:11]\n",
    "F_test = F[11:]\n",
    "y_test = y[11:]"
   ]
  },
  {
   "cell_type": "code",
   "execution_count": 184,
   "metadata": {},
   "outputs": [
    {
     "name": "stdout",
     "output_type": "stream",
     "text": [
      "[-2643.69639801] [[ 1.75540163e+03  1.70525041e+03  6.82445239e+01 -1.43359042e+03\n",
      "  -8.27219585e+02  1.16780479e+03  7.71533322e+02 -1.61666534e+03\n",
      "   1.04553679e+03 -3.73721973e+02  8.17363930e+01 -1.09386849e+01\n",
      "   8.26528613e-01 -2.71037640e-02]]\n"
     ]
    }
   ],
   "source": [
    "from sklearn.linear_model import LinearRegression\n",
    "\n",
    "lr = LinearRegression()\n",
    "\n",
    "lr.fit(F_train, y_train)\n",
    "print(lr.intercept_, lr.coef_)\n",
    "w0 = lr.intercept_\n",
    "w = lr.coef_"
   ]
  },
  {
   "cell_type": "code",
   "execution_count": 186,
   "metadata": {},
   "outputs": [
    {
     "name": "stdout",
     "output_type": "stream",
     "text": [
      "0.9999999785203603\n",
      "-159563.35625771142\n"
     ]
    }
   ],
   "source": [
    "print(lr.score(F_train, y_train))\n",
    "print(lr.score(F_test, y_test))"
   ]
  },
  {
   "cell_type": "code",
   "execution_count": 187,
   "metadata": {},
   "outputs": [],
   "source": [
    "newX =np.linspace(0, 5, 50).reshape(-1, 1)\n",
    "fts = []\n",
    "for i in range(1, 15):\n",
    "    fts.append(newX**i)\n",
    "newF = np.hstack(fts)"
   ]
  },
  {
   "cell_type": "code",
   "execution_count": 188,
   "metadata": {
    "scrolled": false
   },
   "outputs": [
    {
     "data": {
      "text/plain": [
       "(-5, 30)"
      ]
     },
     "execution_count": 188,
     "metadata": {},
     "output_type": "execute_result"
    },
    {
     "data": {
      "image/png": "[encoded data removed]",
      "text/plain": [
       "<Figure size 432x288 with 1 Axes>"
      ]
     },
     "metadata": {
      "needs_background": "light"
     },
     "output_type": "display_data"
    }
   ],
   "source": [
    "plt.scatter(X, y)\n",
    "plt.plot(newX, w0 + np.sum(w*newF, axis=1), c='orange')\n",
    "plt.ylim((-5, 30))"
   ]
  },
  {
   "cell_type": "code",
   "execution_count": null,
   "metadata": {},
   "outputs": [],
   "source": []
  }
 ],
 "metadata": {
  "kernelspec": {
   "display_name": "Python 3",
   "language": "python",
   "name": "python3"
  },
  "language_info": {
   "codemirror_mode": {
    "name": "ipython",
    "version": 3
   },
   "file_extension": ".py",
   "mimetype": "text/x-python",
   "name": "python",
   "nbconvert_exporter": "python",
   "pygments_lexer": "ipython3",
   "version": "3.8.2"
  }
 },
 "nbformat": 4,
 "nbformat_minor": 4
}
